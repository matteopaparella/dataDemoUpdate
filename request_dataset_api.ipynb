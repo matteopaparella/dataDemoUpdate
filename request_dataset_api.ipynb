{
 "cells": [
  {
   "cell_type": "code",
   "execution_count": null,
   "metadata": {},
   "outputs": [
    {
     "ename": "",
     "evalue": "",
     "output_type": "error",
     "traceback": [
      "\u001b[1;31mRunning cells with 'c:\\Users\\matteo.paparella\\AppData\\Local\\Microsoft\\WindowsApps\\python3.11.exe' requires the ipykernel package.\n",
      "\u001b[1;31mRun the following command to install 'ipykernel' into the Python environment. \n",
      "\u001b[1;31mCommand: 'c:/Users/matteo.paparella/AppData/Local/Microsoft/WindowsApps/python3.11.exe -m pip install ipykernel -U --user --force-reinstall'"
     ]
    }
   ],
   "source": [
    "import requests"
   ]
  },
  {
   "cell_type": "code",
   "execution_count": null,
   "metadata": {},
   "outputs": [],
   "source": [
    "pip install ipykernel"
   ]
  },
  {
   "cell_type": "code",
   "execution_count": null,
   "metadata": {},
   "outputs": [],
   "source": [
    "import requests\n",
    "\n",
    "# URL del file CSV su GitHub\n",
    "url = 'https://media.githubusercontent.com/media/datablist/sample-csv-files/main/files/customers/customers-1000.csv'\n",
    "\n",
    "#'https://raw.githubusercontent.com/username/repo/main/file.csv'\n",
    "\n",
    "# Effettua la richiesta GET\n",
    "response = requests.get(url)\n",
    "\n",
    "# Verifica se la richiesta ha avuto successo (status code 200)\n",
    "if response.status_code == 200:\n",
    "    # Nome del file in cui verrà salvato il CSV\n",
    "    nome_file = 'customers-1000.csv'\n",
    "    \n",
    "    # Apre il file in modalità binaria e scrive il contenuto del CSV\n",
    "    with open(nome_file, 'wb') as file:\n",
    "        file.write(response.content)\n",
    "    print(f'Il file CSV è stato scaricato con successo come {nome_file}')\n",
    "else:\n",
    "    print('Errore durante il download del file CSV')"
   ]
  },
  {
   "cell_type": "code",
   "execution_count": null,
   "metadata": {},
   "outputs": [],
   "source": []
  }
 ],
 "metadata": {
  "kernelspec": {
   "display_name": "Python 3",
   "language": "python",
   "name": "python3"
  },
  "language_info": {
   "name": "python",
   "version": "3.11.5"
  },
  "orig_nbformat": 4
 },
 "nbformat": 4,
 "nbformat_minor": 2
}
