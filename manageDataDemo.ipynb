{
 "cells": [
  {
   "cell_type": "markdown",
   "id": "6e8d4672-1cca-4806-b4c5-09efe7603bee",
   "metadata": {},
   "source": [
    "# Data Demo Update"
   ]
  },
  {
   "cell_type": "code",
   "execution_count": 10,
   "id": "77fa9e85-b3d1-461e-b69a-d2efa67883e6",
   "metadata": {},
   "outputs": [],
   "source": [
    "#Librerie Necessarie\n",
    "\n",
    "import pandas as pd\n",
    "import random\n",
    "import numpy"
   ]
  },
  {
   "cell_type": "markdown",
   "id": "92eb91f0-18f3-46fd-8fad-b6754b23d6b8",
   "metadata": {},
   "source": [
    "### -- Stato attuale del csv caricato"
   ]
  },
  {
   "cell_type": "code",
   "execution_count": 33,
   "id": "3b6b2afa-fdff-4e69-b589-6fcec418df26",
   "metadata": {},
   "outputs": [
    {
     "name": "stdout",
     "output_type": "stream",
     "text": [
      "--------------------------------\n",
      "N. Rows Dataset Csv ->  2\n",
      "--------------------------------\n"
     ]
    },
    {
     "data": {
      "text/html": [
       "<div>\n",
       "<style scoped>\n",
       "    .dataframe tbody tr th:only-of-type {\n",
       "        vertical-align: middle;\n",
       "    }\n",
       "\n",
       "    .dataframe tbody tr th {\n",
       "        vertical-align: top;\n",
       "    }\n",
       "\n",
       "    .dataframe thead th {\n",
       "        text-align: right;\n",
       "    }\n",
       "</style>\n",
       "<table border=\"1\" class=\"dataframe\">\n",
       "  <thead>\n",
       "    <tr style=\"text-align: right;\">\n",
       "      <th></th>\n",
       "      <th>Nome</th>\n",
       "      <th>Cognome</th>\n",
       "      <th>Ruolo</th>\n",
       "    </tr>\n",
       "  </thead>\n",
       "  <tbody>\n",
       "    <tr>\n",
       "      <th>0</th>\n",
       "      <td>Alessandro</td>\n",
       "      <td>Baglì</td>\n",
       "      <td>Data Engineer</td>\n",
       "    </tr>\n",
       "    <tr>\n",
       "      <th>1</th>\n",
       "      <td>Matteo</td>\n",
       "      <td>Paparella</td>\n",
       "      <td>Data Engineer</td>\n",
       "    </tr>\n",
       "  </tbody>\n",
       "</table>\n",
       "</div>"
      ],
      "text/plain": [
       "         Nome    Cognome          Ruolo\n",
       "0  Alessandro      Baglì  Data Engineer\n",
       "1      Matteo  Paparella  Data Engineer"
      ]
     },
     "execution_count": 33,
     "metadata": {},
     "output_type": "execute_result"
    }
   ],
   "source": [
    "demoCsv = pd.read_csv(\"demoCsvFile.csv\", sep = \";\")\n",
    "demoCsv.head(5)\n",
    "\n",
    "print(\"--------------------------------\")\n",
    "print(\"N. Rows Dataset Csv -> \", len(demoCsv))\n",
    "print(\"--------------------------------\")\n",
    "\n",
    "demoCsv.head(5)"
   ]
  },
  {
   "cell_type": "markdown",
   "id": "9a219cd9-e710-4fa5-a6c8-a300dd6a81ee",
   "metadata": {},
   "source": [
    "### -- Schema Dataset Csv e Datatypes"
   ]
  },
  {
   "cell_type": "code",
   "execution_count": 34,
   "id": "10ffd019-7bea-42c2-a79a-67e7daaabdc1",
   "metadata": {},
   "outputs": [
    {
     "data": {
      "text/plain": [
       "Nome       object\n",
       "Cognome    object\n",
       "Ruolo      object\n",
       "dtype: object"
      ]
     },
     "execution_count": 34,
     "metadata": {},
     "output_type": "execute_result"
    }
   ],
   "source": [
    "#Creazione della struttura del csv da utilizzare per generare dei dati dummy: \n",
    "\n",
    "listNamesColonne = demoCsv.columns\n",
    "\n",
    "demoCsv.dtypes"
   ]
  },
  {
   "cell_type": "markdown",
   "id": "6e1abe71-ade1-4fb6-b673-f3f9702474d2",
   "metadata": {},
   "source": [
    "### -- Aggiungere Dati al csv"
   ]
  },
  {
   "cell_type": "markdown",
   "id": "5e1f80fe-e109-42ce-a9e3-8b72c154f174",
   "metadata": {},
   "source": [
    "Dati Spot"
   ]
  },
  {
   "cell_type": "code",
   "execution_count": 35,
   "id": "17eae96f-9387-4bda-915e-af7820709f8c",
   "metadata": {},
   "outputs": [
    {
     "data": {
      "text/html": [
       "<div>\n",
       "<style scoped>\n",
       "    .dataframe tbody tr th:only-of-type {\n",
       "        vertical-align: middle;\n",
       "    }\n",
       "\n",
       "    .dataframe tbody tr th {\n",
       "        vertical-align: top;\n",
       "    }\n",
       "\n",
       "    .dataframe thead th {\n",
       "        text-align: right;\n",
       "    }\n",
       "</style>\n",
       "<table border=\"1\" class=\"dataframe\">\n",
       "  <thead>\n",
       "    <tr style=\"text-align: right;\">\n",
       "      <th></th>\n",
       "      <th>Nome</th>\n",
       "      <th>Cognome</th>\n",
       "      <th>Ruolo</th>\n",
       "    </tr>\n",
       "  </thead>\n",
       "  <tbody>\n",
       "    <tr>\n",
       "      <th>0</th>\n",
       "      <td>Alessandro</td>\n",
       "      <td>Baglì</td>\n",
       "      <td>Data Engineer</td>\n",
       "    </tr>\n",
       "    <tr>\n",
       "      <th>1</th>\n",
       "      <td>Matteo</td>\n",
       "      <td>Paparella</td>\n",
       "      <td>Data Engineer</td>\n",
       "    </tr>\n",
       "    <tr>\n",
       "      <th>2</th>\n",
       "      <td>David</td>\n",
       "      <td>28</td>\n",
       "      <td>Data Engineer</td>\n",
       "    </tr>\n",
       "  </tbody>\n",
       "</table>\n",
       "</div>"
      ],
      "text/plain": [
       "         Nome    Cognome          Ruolo\n",
       "0  Alessandro      Baglì  Data Engineer\n",
       "1      Matteo  Paparella  Data Engineer\n",
       "2       David         28  Data Engineer"
      ]
     },
     "execution_count": 35,
     "metadata": {},
     "output_type": "execute_result"
    }
   ],
   "source": [
    "# Creare un nuovo record\n",
    "nuovo_record = pd.DataFrame({f'{listNamesColonne[0]}': ['David'], f'{listNamesColonne[1]}': ['28'], f'{listNamesColonne[2]}': ['Data Engineer']})\n",
    "\n",
    "# Aggiungere il nuovo record al DataFrame\n",
    "demoCsv = pd.concat([demoCsv, nuovo_record], ignore_index=True)\n",
    "\n",
    "# Nuovo record inserito e presente nel dataset in coda\n",
    "demoCsv.tail(5)"
   ]
  },
  {
   "cell_type": "code",
   "execution_count": null,
   "id": "6a688d1e-44ad-49e1-bf94-619282f19a71",
   "metadata": {},
   "outputs": [],
   "source": []
  }
 ],
 "metadata": {
  "kernelspec": {
   "display_name": "Python 3 (ipykernel)",
   "language": "python",
   "name": "python3"
  },
  "language_info": {
   "codemirror_mode": {
    "name": "ipython",
    "version": 3
   },
   "file_extension": ".py",
   "mimetype": "text/x-python",
   "name": "python",
   "nbconvert_exporter": "python",
   "pygments_lexer": "ipython3",
   "version": "3.8.16"
  }
 },
 "nbformat": 4,
 "nbformat_minor": 5
}
