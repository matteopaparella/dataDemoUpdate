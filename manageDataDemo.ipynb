{
 "cells": [
  {
   "cell_type": "markdown",
   "id": "6e8d4672-1cca-4806-b4c5-09efe7603bee",
   "metadata": {},
   "source": [
    "# Data Demo Update"
   ]
  },
  {
   "cell_type": "code",
   "execution_count": null,
   "id": "77fa9e85-b3d1-461e-b69a-d2efa67883e6",
   "metadata": {},
   "outputs": [],
   "source": []
  }
 ],
 "metadata": {
  "kernelspec": {
   "display_name": "Python 3 (ipykernel)",
   "language": "python",
   "name": "python3"
  },
  "language_info": {
   "codemirror_mode": {
    "name": "ipython",
    "version": 3
   },
   "file_extension": ".py",
   "mimetype": "text/x-python",
   "name": "python",
   "nbconvert_exporter": "python",
   "pygments_lexer": "ipython3",
   "version": "3.8.16"
  }
 },
 "nbformat": 4,
 "nbformat_minor": 5
}
