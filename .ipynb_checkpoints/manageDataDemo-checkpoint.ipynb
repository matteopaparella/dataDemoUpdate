{
 "cells": [
  {
   "cell_type": "markdown",
   "id": "6e8d4672-1cca-4806-b4c5-09efe7603bee",
   "metadata": {},
   "source": [
    "# Data Demo Update"
   ]
  },
  {
   "cell_type": "code",
   "execution_count": 30,
   "id": "77fa9e85-b3d1-461e-b69a-d2efa67883e6",
   "metadata": {},
   "outputs": [],
   "source": [
    "#Librerie Necessarie\n",
    "\n",
    "import pandas as pd\n",
    "import random\n",
    "import numpy as np"
   ]
  },
  {
   "cell_type": "markdown",
   "id": "92eb91f0-18f3-46fd-8fad-b6754b23d6b8",
   "metadata": {},
   "source": [
    "### -- Stato attuale del csv caricato"
   ]
  },
  {
   "cell_type": "code",
   "execution_count": 14,
   "id": "3b6b2afa-fdff-4e69-b589-6fcec418df26",
   "metadata": {},
   "outputs": [
    {
     "name": "stdout",
     "output_type": "stream",
     "text": [
      "--------------------------------\n",
      "N. Rows Dataset Csv ->  5\n",
      "--------------------------------\n"
     ]
    },
    {
     "data": {
      "text/html": [
       "<div>\n",
       "<style scoped>\n",
       "    .dataframe tbody tr th:only-of-type {\n",
       "        vertical-align: middle;\n",
       "    }\n",
       "\n",
       "    .dataframe tbody tr th {\n",
       "        vertical-align: top;\n",
       "    }\n",
       "\n",
       "    .dataframe thead th {\n",
       "        text-align: right;\n",
       "    }\n",
       "</style>\n",
       "<table border=\"1\" class=\"dataframe\">\n",
       "  <thead>\n",
       "    <tr style=\"text-align: right;\">\n",
       "      <th></th>\n",
       "      <th>Nome</th>\n",
       "      <th>Cognome</th>\n",
       "      <th>Ruolo</th>\n",
       "    </tr>\n",
       "  </thead>\n",
       "  <tbody>\n",
       "    <tr>\n",
       "      <th>0</th>\n",
       "      <td>Alessandro</td>\n",
       "      <td>Baglì</td>\n",
       "      <td>Data Engineer</td>\n",
       "    </tr>\n",
       "    <tr>\n",
       "      <th>1</th>\n",
       "      <td>Matteo</td>\n",
       "      <td>Paparella</td>\n",
       "      <td>Data Engineer</td>\n",
       "    </tr>\n",
       "    <tr>\n",
       "      <th>2</th>\n",
       "      <td>David</td>\n",
       "      <td>28</td>\n",
       "      <td>Data Engineer</td>\n",
       "    </tr>\n",
       "    <tr>\n",
       "      <th>3</th>\n",
       "      <td>David</td>\n",
       "      <td>28</td>\n",
       "      <td>Data Engineer</td>\n",
       "    </tr>\n",
       "    <tr>\n",
       "      <th>4</th>\n",
       "      <td>David</td>\n",
       "      <td>28</td>\n",
       "      <td>Data Engineer</td>\n",
       "    </tr>\n",
       "  </tbody>\n",
       "</table>\n",
       "</div>"
      ],
      "text/plain": [
       "         Nome    Cognome          Ruolo\n",
       "0  Alessandro      Baglì  Data Engineer\n",
       "1      Matteo  Paparella  Data Engineer\n",
       "2       David         28  Data Engineer\n",
       "3       David         28  Data Engineer\n",
       "4       David         28  Data Engineer"
      ]
     },
     "execution_count": 14,
     "metadata": {},
     "output_type": "execute_result"
    }
   ],
   "source": [
    "demoCsv1 = pd.read_csv(\"demoCsvFile1.csv\", sep = \";\")\n",
    "demoCsv1.head(5)\n",
    "\n",
    "print(\"--------------------------------\")\n",
    "print(\"N. Rows Dataset Csv -> \", len(demoCsv1))\n",
    "print(\"--------------------------------\")\n",
    "\n",
    "demoCsv1.head(5)"
   ]
  },
  {
   "cell_type": "code",
   "execution_count": 18,
   "id": "e6f342d6-680d-4583-8748-eca045ba8774",
   "metadata": {},
   "outputs": [
    {
     "name": "stdout",
     "output_type": "stream",
     "text": [
      "--------------------------------\n",
      "N. Rows Dataset Csv ->  2\n",
      "--------------------------------\n"
     ]
    },
    {
     "data": {
      "text/html": [
       "<div>\n",
       "<style scoped>\n",
       "    .dataframe tbody tr th:only-of-type {\n",
       "        vertical-align: middle;\n",
       "    }\n",
       "\n",
       "    .dataframe tbody tr th {\n",
       "        vertical-align: top;\n",
       "    }\n",
       "\n",
       "    .dataframe thead th {\n",
       "        text-align: right;\n",
       "    }\n",
       "</style>\n",
       "<table border=\"1\" class=\"dataframe\">\n",
       "  <thead>\n",
       "    <tr style=\"text-align: right;\">\n",
       "      <th></th>\n",
       "      <th>Ruolo</th>\n",
       "      <th>Postazione</th>\n",
       "      <th>Team</th>\n",
       "    </tr>\n",
       "  </thead>\n",
       "  <tbody>\n",
       "    <tr>\n",
       "      <th>0</th>\n",
       "      <td>Data Engineer</td>\n",
       "      <td>1</td>\n",
       "      <td>EDH</td>\n",
       "    </tr>\n",
       "    <tr>\n",
       "      <th>1</th>\n",
       "      <td>Data Analyst</td>\n",
       "      <td>2</td>\n",
       "      <td>EDH Purview</td>\n",
       "    </tr>\n",
       "  </tbody>\n",
       "</table>\n",
       "</div>"
      ],
      "text/plain": [
       "           Ruolo  Postazione         Team\n",
       "0  Data Engineer           1          EDH\n",
       "1   Data Analyst           2  EDH Purview"
      ]
     },
     "execution_count": 18,
     "metadata": {},
     "output_type": "execute_result"
    }
   ],
   "source": [
    "demoCsv2 = pd.read_csv(\"demoCsvFile2.csv\", sep = \";\")\n",
    "demoCsv2.head(5)\n",
    "\n",
    "print(\"--------------------------------\")\n",
    "print(\"N. Rows Dataset Csv -> \", len(demoCsv2))\n",
    "print(\"--------------------------------\")\n",
    "\n",
    "demoCsv2.head(5)"
   ]
  },
  {
   "cell_type": "markdown",
   "id": "9a219cd9-e710-4fa5-a6c8-a300dd6a81ee",
   "metadata": {},
   "source": [
    "### -- Schema Dataset Csv e Datatypes"
   ]
  },
  {
   "cell_type": "code",
   "execution_count": 23,
   "id": "10ffd019-7bea-42c2-a79a-67e7daaabdc1",
   "metadata": {},
   "outputs": [
    {
     "name": "stdout",
     "output_type": "stream",
     "text": [
      "Datatypes demoCsvFile1\n",
      "Nome       object\n",
      "Cognome    object\n",
      "Ruolo      object\n",
      "dtype: object\n",
      "---------------------------------------\n",
      "Datatypes demoCsvFile2\n",
      "Ruolo         object\n",
      "Postazione     int64\n",
      "Team          object\n",
      "dtype: object\n"
     ]
    }
   ],
   "source": [
    "#Creazione della struttura del csv da utilizzare per generare dei dati dummy: \n",
    "\n",
    "listNamesColonneDf1 = demoCsv1.columns\n",
    "\n",
    "print(\"Datatypes demoCsvFile1\")\n",
    "print(demoCsv1.dtypes)\n",
    "\n",
    "print(\"---------------------------------------\")\n",
    "      \n",
    "listNamesColonneDf2 = demoCsv2.columns\n",
    "\n",
    "print(\"Datatypes demoCsvFile2\")\n",
    "print(demoCsv2.dtypes)"
   ]
  },
  {
   "cell_type": "markdown",
   "id": "6e1abe71-ade1-4fb6-b673-f3f9702474d2",
   "metadata": {},
   "source": [
    "### -- Aggiungere Dati al csv"
   ]
  },
  {
   "cell_type": "markdown",
   "id": "5e1f80fe-e109-42ce-a9e3-8b72c154f174",
   "metadata": {},
   "source": [
    "Dati Spot"
   ]
  },
  {
   "cell_type": "code",
   "execution_count": 16,
   "id": "17eae96f-9387-4bda-915e-af7820709f8c",
   "metadata": {},
   "outputs": [],
   "source": [
    "# Creare un nuovo record\n",
    "nuovo_record = pd.DataFrame({f'{listNamesColonneDf1[0]}': ['David'], f'{listNamesColonneDf1[1]}': ['28'], f'{listNamesColonneDf1[2]}': ['Data Engineer']})\n",
    "\n",
    "# Aggiungere il nuovo record al DataFrame\n",
    "demoCsv1 = pd.concat([demoCsv1, nuovo_record], ignore_index=True)\n",
    "\n",
    "# Nuovo record inserito e presente nel dataset in coda\n",
    "print(demoCsv1.tail(5))\n",
    "\n",
    "# Si scrive il nuovo Dataset\n",
    "demoCsv1.to_csv(\"demoCsvFile1.csv\", sep = \";\", index = False)"
   ]
  },
  {
   "cell_type": "code",
   "execution_count": 24,
   "id": "df7ea814-222b-498b-830e-1add562eeeee",
   "metadata": {},
   "outputs": [],
   "source": [
    "# Creare un nuovo record\n",
    "nuovo_record = pd.DataFrame({f'{listNamesColonneDf2[0]}': ['Data Scientist'], f'{listNamesColonneDf2[1]}': ['3'], f'{listNamesColonneDf2[2]}': ['EDH Reporting']})\n",
    "\n",
    "# Aggiungere il nuovo record al DataFrame\n",
    "demoCsv2 = pd.concat([demoCsv2, nuovo_record], ignore_index=True)\n",
    "\n",
    "print(demoCsv2.tail(5))\n",
    "\n",
    "# Si scrive il nuovo Dataset\n",
    "demoCsv2.to_csv(\"demoCsvFile2.csv\", sep = \";\", index = False)"
   ]
  },
  {
   "cell_type": "markdown",
   "id": "719bd4ba-ac63-4da4-a7af-6c7880ced2fe",
   "metadata": {},
   "source": [
    "Dati Random massivi"
   ]
  },
  {
   "cell_type": "code",
   "execution_count": 32,
   "id": "02852498-8e49-442f-8552-7d600655b10e",
   "metadata": {},
   "outputs": [
    {
     "name": "stdout",
     "output_type": "stream",
     "text": [
      "Nuova Len demoCsv1 ->  206\n"
     ]
    },
    {
     "data": {
      "text/html": [
       "<div>\n",
       "<style scoped>\n",
       "    .dataframe tbody tr th:only-of-type {\n",
       "        vertical-align: middle;\n",
       "    }\n",
       "\n",
       "    .dataframe tbody tr th {\n",
       "        vertical-align: top;\n",
       "    }\n",
       "\n",
       "    .dataframe thead th {\n",
       "        text-align: right;\n",
       "    }\n",
       "</style>\n",
       "<table border=\"1\" class=\"dataframe\">\n",
       "  <thead>\n",
       "    <tr style=\"text-align: right;\">\n",
       "      <th></th>\n",
       "      <th>Nome</th>\n",
       "      <th>Cognome</th>\n",
       "      <th>Ruolo</th>\n",
       "    </tr>\n",
       "  </thead>\n",
       "  <tbody>\n",
       "    <tr>\n",
       "      <th>0</th>\n",
       "      <td>Alessandro</td>\n",
       "      <td>Baglì</td>\n",
       "      <td>Data Engineer</td>\n",
       "    </tr>\n",
       "    <tr>\n",
       "      <th>1</th>\n",
       "      <td>Matteo</td>\n",
       "      <td>Paparella</td>\n",
       "      <td>Data Engineer</td>\n",
       "    </tr>\n",
       "    <tr>\n",
       "      <th>2</th>\n",
       "      <td>David</td>\n",
       "      <td>28</td>\n",
       "      <td>Data Engineer</td>\n",
       "    </tr>\n",
       "    <tr>\n",
       "      <th>3</th>\n",
       "      <td>David</td>\n",
       "      <td>28</td>\n",
       "      <td>Data Engineer</td>\n",
       "    </tr>\n",
       "    <tr>\n",
       "      <th>4</th>\n",
       "      <td>David</td>\n",
       "      <td>28</td>\n",
       "      <td>Data Engineer</td>\n",
       "    </tr>\n",
       "  </tbody>\n",
       "</table>\n",
       "</div>"
      ],
      "text/plain": [
       "         Nome    Cognome          Ruolo\n",
       "0  Alessandro      Baglì  Data Engineer\n",
       "1      Matteo  Paparella  Data Engineer\n",
       "2       David         28  Data Engineer\n",
       "3       David         28  Data Engineer\n",
       "4       David         28  Data Engineer"
      ]
     },
     "execution_count": 32,
     "metadata": {},
     "output_type": "execute_result"
    }
   ],
   "source": [
    "## csvDemo1\n",
    "\n",
    "# Definisci il numero di righe e colonne\n",
    "numero_righe_da_inserire = 100  # Numero di righe desiderate\n",
    "\n",
    "# Creare un DataFrame con dati casuali\n",
    "for i in range(numero_righe_da_inserire):\n",
    "    data1 = [''.join(np.random.choice(list('abcdefghijklmnopqrstuvwxyz'), 5)) for _ in range(numero_righe_da_inserire)]\n",
    "    data2 = [''.join(np.random.choice(list('abcdefghijklmnopqrstuvwxyz'), 5)) for _ in range(numero_righe_da_inserire)]\n",
    "    data3 = [''.join(np.random.choice(list('abcdefghijklmnopqrstuvwxyz'), 5)) for _ in range(numero_righe_da_inserire)]\n",
    "    nuovo_record = pd.DataFrame({f'{listNamesColonneDf1[0]}': [f'{data1}'], f'{listNamesColonneDf1[1]}': [f'{data2}'], f'{listNamesColonneDf1[2]}': [f'{data3}']})\n",
    "    # Aggiungere il nuovo record al DataFrame\n",
    "    demoCsv1 = pd.concat([demoCsv1, nuovo_record], ignore_index=True)\n",
    "\n",
    "    \n",
    "# Si scrive il nuovo Dataset\n",
    "demoCsv1.to_csv(\"demoCsvFile1.csv\", sep = \";\", index = False)\n",
    "               \n",
    "print(\"Nuova Len demoCsv1 -> \", len(demoCsv1))\n",
    "demoCsv1.head(5)"
   ]
  },
  {
   "cell_type": "code",
   "execution_count": 33,
   "id": "ddd441dd-52bf-498f-a1de-c37156766afe",
   "metadata": {},
   "outputs": [
    {
     "data": {
      "text/html": [
       "<div>\n",
       "<style scoped>\n",
       "    .dataframe tbody tr th:only-of-type {\n",
       "        vertical-align: middle;\n",
       "    }\n",
       "\n",
       "    .dataframe tbody tr th {\n",
       "        vertical-align: top;\n",
       "    }\n",
       "\n",
       "    .dataframe thead th {\n",
       "        text-align: right;\n",
       "    }\n",
       "</style>\n",
       "<table border=\"1\" class=\"dataframe\">\n",
       "  <thead>\n",
       "    <tr style=\"text-align: right;\">\n",
       "      <th></th>\n",
       "      <th>Nome</th>\n",
       "      <th>Cognome</th>\n",
       "      <th>Ruolo</th>\n",
       "    </tr>\n",
       "  </thead>\n",
       "  <tbody>\n",
       "    <tr>\n",
       "      <th>201</th>\n",
       "      <td>['nnwxt', 'ihigf', 'dlljm', 'djtbg', 'erukf', ...</td>\n",
       "      <td>['podcm', 'jvath', 'zeixc', 'xmyue', 'hgyez', ...</td>\n",
       "      <td>['gzjlv', 'wbvod', 'zarww', 'ulxng', 'qfhko', ...</td>\n",
       "    </tr>\n",
       "    <tr>\n",
       "      <th>202</th>\n",
       "      <td>['ncliy', 'przvn', 'ojpdi', 'addjc', 'tcdgc', ...</td>\n",
       "      <td>['wnopg', 'tyamu', 'nugjy', 'lrspr', 'hspqu', ...</td>\n",
       "      <td>['tnucl', 'wxuzw', 'lzzxf', 'kvlyr', 'sivpc', ...</td>\n",
       "    </tr>\n",
       "    <tr>\n",
       "      <th>203</th>\n",
       "      <td>['wlcik', 'ofiqj', 'vsxgz', 'zyget', 'jygow', ...</td>\n",
       "      <td>['fqtjs', 'ahnwc', 'hvcgx', 'ieoxj', 'xweuq', ...</td>\n",
       "      <td>['pswlu', 'vjvrt', 'zvabj', 'axhfc', 'iszvn', ...</td>\n",
       "    </tr>\n",
       "    <tr>\n",
       "      <th>204</th>\n",
       "      <td>['wwcjh', 'pcebw', 'fgmjw', 'ziumr', 'brsyv', ...</td>\n",
       "      <td>['qwoeb', 'cmjwr', 'tefna', 'bapqo', 'cwltv', ...</td>\n",
       "      <td>['asbdh', 'fcpnt', 'dfbgm', 'ojrke', 'cjetx', ...</td>\n",
       "    </tr>\n",
       "    <tr>\n",
       "      <th>205</th>\n",
       "      <td>['bhjbg', 'zgsff', 'meham', 'bmphu', 'qbgzb', ...</td>\n",
       "      <td>['abfia', 'wzhpd', 'myxsf', 'ijzoh', 'qsnpr', ...</td>\n",
       "      <td>['bvouf', 'vycus', 'ycirx', 'vddol', 'jnoek', ...</td>\n",
       "    </tr>\n",
       "  </tbody>\n",
       "</table>\n",
       "</div>"
      ],
      "text/plain": [
       "                                                  Nome  \\\n",
       "201  ['nnwxt', 'ihigf', 'dlljm', 'djtbg', 'erukf', ...   \n",
       "202  ['ncliy', 'przvn', 'ojpdi', 'addjc', 'tcdgc', ...   \n",
       "203  ['wlcik', 'ofiqj', 'vsxgz', 'zyget', 'jygow', ...   \n",
       "204  ['wwcjh', 'pcebw', 'fgmjw', 'ziumr', 'brsyv', ...   \n",
       "205  ['bhjbg', 'zgsff', 'meham', 'bmphu', 'qbgzb', ...   \n",
       "\n",
       "                                               Cognome  \\\n",
       "201  ['podcm', 'jvath', 'zeixc', 'xmyue', 'hgyez', ...   \n",
       "202  ['wnopg', 'tyamu', 'nugjy', 'lrspr', 'hspqu', ...   \n",
       "203  ['fqtjs', 'ahnwc', 'hvcgx', 'ieoxj', 'xweuq', ...   \n",
       "204  ['qwoeb', 'cmjwr', 'tefna', 'bapqo', 'cwltv', ...   \n",
       "205  ['abfia', 'wzhpd', 'myxsf', 'ijzoh', 'qsnpr', ...   \n",
       "\n",
       "                                                 Ruolo  \n",
       "201  ['gzjlv', 'wbvod', 'zarww', 'ulxng', 'qfhko', ...  \n",
       "202  ['tnucl', 'wxuzw', 'lzzxf', 'kvlyr', 'sivpc', ...  \n",
       "203  ['pswlu', 'vjvrt', 'zvabj', 'axhfc', 'iszvn', ...  \n",
       "204  ['asbdh', 'fcpnt', 'dfbgm', 'ojrke', 'cjetx', ...  \n",
       "205  ['bvouf', 'vycus', 'ycirx', 'vddol', 'jnoek', ...  "
      ]
     },
     "execution_count": 33,
     "metadata": {},
     "output_type": "execute_result"
    }
   ],
   "source": [
    "demoCsv1.tail()"
   ]
  },
  {
   "cell_type": "code",
   "execution_count": null,
   "id": "3c2256ab-f78d-49a9-afed-1a1e07f5f0c6",
   "metadata": {},
   "outputs": [],
   "source": []
  }
 ],
 "metadata": {
  "kernelspec": {
   "display_name": "Python 3 (ipykernel)",
   "language": "python",
   "name": "python3"
  },
  "language_info": {
   "codemirror_mode": {
    "name": "ipython",
    "version": 3
   },
   "file_extension": ".py",
   "mimetype": "text/x-python",
   "name": "python",
   "nbconvert_exporter": "python",
   "pygments_lexer": "ipython3",
   "version": "3.8.16"
  }
 },
 "nbformat": 4,
 "nbformat_minor": 5
}
